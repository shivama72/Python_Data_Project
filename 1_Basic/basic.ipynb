{
 "cells": [
  {
   "cell_type": "code",
   "execution_count": null,
   "metadata": {
    "colab": {
     "base_uri": "https://localhost:8080/",
     "height": 1000,
     "referenced_widgets": [
      "73203ba3f67b412a8e81b5ec8b27cb63",
      "10e1ac4e591945a992cc59d3575b43fa",
      "013a80add96f4f99ad4b026821f47fdf",
      "c51681bc9d4c48d49d31ab91a8b84639",
      "6a0ed3088c844c78901628270771a65a",
      "6bb2757c0b4646888fddad29632cc1f8",
      "53900feb0308477a8fd0ac67b47e9a7e",
      "cca0027d94724e1ca4ce5548cb754222",
      "a590d411cc71437988c521aa2b409318",
      "74a69b3513e74af29b1e0abc274fd1e5",
      "1e4837cbdf8642cc9c9b259f09b0ce35",
      "280a3ae052f3428489ccd7551c65dc0d",
      "d37c955bf08d49f398be0d30f7dcf630",
      "709fd8d1e8b9415fb9a1601d5956b823",
      "6e1b7e0fd42e4745821af246c93e1d83",
      "e59a4190798b45b0b4c3b7e5b7765ad3",
      "20b51835fff44da1a90edab55d00b803",
      "f5b4fb9fbdf04b8aa61523cbd411a129",
      "6b9b9c9a99a04448be5fe44ec8bcc3ae",
      "bf855768b4cc4cfdb4705e0ba670c81b",
      "c87f341040eb434f8de116652bde8325",
      "af2fc959fb7f45dca5dfdbadf17e7732",
      "75e77c0ec1b44668b644e4cbbf1aeea4",
      "14fc91b8771449e29cced08f5c58a68b",
      "c97d1deb55ea4a539f04086173f96f2f",
      "ad83e2233f164d6fb32c873b54e89823",
      "e984ebf232ec498fb16d1972b31d967d",
      "ef89bc1d292a49cab148529dcd2e0677",
      "f2f51a1a25c54862a9d6b68d3346d5f7",
      "2a7d0daa94df436cb189e1f7a022b8e6",
      "d5c3848bcaf84642b80950a4ecf5bbf2",
      "ff2f251731744a11be11877b63d0363e",
      "12e95ae9432944de82710f035094a9e5"
     ]
    },
    "id": "eSiRx471tn1P",
    "outputId": "b8f76a05-8b39-4e68-cc28-d175d4d2198d"
   },
   "outputs": [],
   "source": [
    "import pandas as pd\n",
    "from datasets import load_dataset\n",
    "\n",
    "dataset = load_dataset('lukebarousse/data_jobs')\n",
    "df = dataset['train'].to_pandas()\n",
    "\n",
    "df['job_posted_date'] = pd.to_datetime(df['job_posted_date'])"
   ]
  },
  {
   "cell_type": "code",
   "execution_count": null,
   "metadata": {
    "colab": {
     "base_uri": "https://localhost:8080/",
     "height": 742
    },
    "id": "isy9rvYGKQ1B",
    "outputId": "fe287181-8b5b-48cf-d165-60dc4d008d6c"
   },
   "outputs": [],
   "source": [
    "df['job_country'].value_counts().head(20)"
   ]
  },
  {
   "cell_type": "code",
   "execution_count": null,
   "metadata": {
    "colab": {
     "base_uri": "https://localhost:8080/"
    },
    "id": "A4NVUamjKgrk",
    "outputId": "848f099b-2ef3-48db-aea0-af7608f439a1"
   },
   "outputs": [],
   "source": [
    "df['job_country'].isin(['Brazil']).any()"
   ]
  },
  {
   "cell_type": "code",
   "execution_count": null,
   "metadata": {
    "id": "xVljKskZK-IT"
   },
   "outputs": [],
   "source": [
    "us_jobs = df[df['job_country'] == 'United States']"
   ]
  },
  {
   "cell_type": "code",
   "execution_count": null,
   "metadata": {
    "id": "nXAdHrmULWfE"
   },
   "outputs": [],
   "source": [
    "us_wfh_jobs = us_jobs[us_jobs['job_work_from_home'] == True]"
   ]
  },
  {
   "cell_type": "code",
   "execution_count": null,
   "metadata": {
    "colab": {
     "base_uri": "https://localhost:8080/",
     "height": 947
    },
    "id": "2uzklpeiLXYy",
    "outputId": "9e48aa28-7db6-4dd6-e754-c9e6a2ea2230"
   },
   "outputs": [],
   "source": [
    "us_wfh_jobs"
   ]
  },
  {
   "cell_type": "code",
   "execution_count": null,
   "metadata": {
    "id": "f1Fs2_TrMM-g"
   },
   "outputs": [],
   "source": [
    "us_jobs = us_jobs[us_jobs['salary_year_avg'].notna()]"
   ]
  },
  {
   "cell_type": "code",
   "execution_count": null,
   "metadata": {
    "colab": {
     "base_uri": "https://localhost:8080/",
     "height": 394
    },
    "id": "d9hsXe6mMs53",
    "outputId": "e528585a-66ad-4a68-d4f7-4b29b8b28d3a"
   },
   "outputs": [],
   "source": [
    "us_jobs.groupby('job_title_short')['salary_year_avg'].agg(['median', 'min', 'max', 'count']).sort_values(by = 'median' , ascending= False)"
   ]
  },
  {
   "cell_type": "code",
   "execution_count": null,
   "metadata": {
    "id": "8BB4XRhlfeOG"
   },
   "outputs": [],
   "source": [
    "import matplotlib.pyplot as plt\n",
    "import numpy as np"
   ]
  },
  {
   "cell_type": "code",
   "execution_count": null,
   "metadata": {
    "colab": {
     "base_uri": "https://localhost:8080/",
     "height": 447
    },
    "id": "LVJmeAq5fvNR",
    "outputId": "1036eeea-55b6-4a89-98dd-437202ca4c86"
   },
   "outputs": [],
   "source": [
    "x = np.arange(0, 5, 0.1)\n",
    "y = np.sin(x)\n",
    "plt.plot(x,y)"
   ]
  },
  {
   "cell_type": "code",
   "execution_count": null,
   "metadata": {
    "id": "XQl57W3lgJNi"
   },
   "outputs": [],
   "source": [
    "df = dataset['train'].to_pandas()"
   ]
  },
  {
   "cell_type": "code",
   "execution_count": null,
   "metadata": {
    "id": "sHNpoIbAgjqO"
   },
   "outputs": [],
   "source": [
    "df['job_posted_date'] = pd.to_datetime(df['job_posted_date'])"
   ]
  },
  {
   "cell_type": "code",
   "execution_count": null,
   "metadata": {
    "colab": {
     "base_uri": "https://localhost:8080/",
     "height": 447
    },
    "id": "ZuA4n9GLgsOP",
    "outputId": "5bdf8498-cd61-4169-a0a7-768b1320227b"
   },
   "outputs": [],
   "source": [
    "x = [1, 2, 3, 4]\n",
    "y = [1, 2, 3, 4]\n",
    "\n",
    "plt.plot(x,y)\n",
    "# plt.show()"
   ]
  },
  {
   "cell_type": "code",
   "execution_count": null,
   "metadata": {
    "colab": {
     "base_uri": "https://localhost:8080/",
     "height": 241
    },
    "id": "yEIHjjfug6kV",
    "outputId": "6b6f2578-e0ed-4878-d19c-f14d85163af4"
   },
   "outputs": [],
   "source": [
    "df.job_posted_date.head()"
   ]
  },
  {
   "cell_type": "code",
   "execution_count": null,
   "metadata": {
    "colab": {
     "base_uri": "https://localhost:8080/",
     "height": 447
    },
    "id": "RxJJ4LkKhYbr",
    "outputId": "52994332-c1e7-41a7-c425-f8699502232c"
   },
   "outputs": [],
   "source": [
    "plt.plot(df.job_posted_date, df.job_posted_date)"
   ]
  },
  {
   "cell_type": "code",
   "execution_count": null,
   "metadata": {
    "id": "KxbMARQKNiso"
   },
   "outputs": [],
   "source": [
    "date_counts = df.job_posted_date.value_counts()\n",
    "date_counts = date_counts.sort_index()"
   ]
  },
  {
   "cell_type": "code",
   "execution_count": null,
   "metadata": {
    "colab": {
     "base_uri": "https://localhost:8080/",
     "height": 203
    },
    "id": "BTGaCmfROO-R",
    "outputId": "c5a5977d-ac87-4dc5-bb85-0f3548d83cbf"
   },
   "outputs": [],
   "source": [
    "type(date_counts)"
   ]
  },
  {
   "cell_type": "code",
   "execution_count": null,
   "metadata": {
    "colab": {
     "base_uri": "https://localhost:8080/",
     "height": 447
    },
    "id": "QJDP6ZVKOR1M",
    "outputId": "da08c89f-30e7-4301-aa8e-861099ede3c4"
   },
   "outputs": [],
   "source": [
    "plt.plot(date_counts.index, date_counts)"
   ]
  },
  {
   "cell_type": "code",
   "execution_count": null,
   "metadata": {
    "id": "L7EC6CgBOfnS"
   },
   "outputs": [],
   "source": [
    "df['job_postes_month'] = df['job_posted_date'].dt.month"
   ]
  },
  {
   "cell_type": "code",
   "execution_count": null,
   "metadata": {
    "id": "fogWRWHwPMQY"
   },
   "outputs": [],
   "source": [
    "monthly_counts = df.job_postes_month.value_counts()\n",
    "monthly_counts = monthly_counts.sort_index()"
   ]
  },
  {
   "cell_type": "code",
   "execution_count": null,
   "metadata": {
    "colab": {
     "base_uri": "https://localhost:8080/",
     "height": 447
    },
    "id": "_o8t29MJPX_K",
    "outputId": "5782070d-d0e8-4c34-93be-282c81ce8547"
   },
   "outputs": [],
   "source": [
    "plt.plot(monthly_counts.index, monthly_counts.values)"
   ]
  },
  {
   "cell_type": "code",
   "execution_count": null,
   "metadata": {
    "id": "MfJNmfRuPpjJ"
   },
   "outputs": [],
   "source": [
    "series = pd.Series([10, 20, 30, 40, 50], index = ['a', 'b', 'c', 'd', 'e'])"
   ]
  },
  {
   "cell_type": "code",
   "execution_count": null,
   "metadata": {
    "colab": {
     "base_uri": "https://localhost:8080/"
    },
    "id": "pmZLwEv6QMYS",
    "outputId": "ba875d1f-ae41-498c-c630-64d5fc786ddd"
   },
   "outputs": [],
   "source": [
    "series.index"
   ]
  },
  {
   "cell_type": "code",
   "execution_count": null,
   "metadata": {
    "colab": {
     "base_uri": "https://localhost:8080/"
    },
    "id": "hfvLgRvFQUE1",
    "outputId": "323de1cd-1f16-4640-a629-f8a744cd51e5"
   },
   "outputs": [],
   "source": [
    "series.values"
   ]
  },
  {
   "cell_type": "code",
   "execution_count": null,
   "metadata": {
    "id": "fUzOKEuVQm6S"
   },
   "outputs": [],
   "source": [
    "job_counts = df.job_title_short.value_counts()"
   ]
  },
  {
   "cell_type": "code",
   "execution_count": null,
   "metadata": {
    "colab": {
     "base_uri": "https://localhost:8080/",
     "height": 430
    },
    "id": "ys5QAEbNQw2W",
    "outputId": "42af9654-92b5-45b3-9d38-d25602cb6239"
   },
   "outputs": [],
   "source": [
    "job_counts = job_counts.sort_values(ascending = True)\n",
    "plt.barh(job_counts.index, job_counts.values)\n",
    "plt.show()"
   ]
  },
  {
   "cell_type": "code",
   "execution_count": null,
   "metadata": {
    "colab": {
     "base_uri": "https://localhost:8080/",
     "height": 601
    },
    "id": "b3JyR747Q7IA",
    "outputId": "8c1fda80-3b7f-4ece-ab1a-5c52c03da41f"
   },
   "outputs": [],
   "source": [
    "plt.bar(job_counts.index, job_counts.values)\n",
    "plt.title('Postings by Job Title')\n",
    "plt.xlabel('Job Title')\n",
    "plt.ylabel('Number of Postings')\n",
    "plt.xticks(rotation = 45, ha = 'right')\n",
    "plt.show()\n"
   ]
  },
  {
   "cell_type": "code",
   "execution_count": null,
   "metadata": {
    "colab": {
     "base_uri": "https://localhost:8080/",
     "height": 622
    },
    "id": "BF2V5-KXPw6y",
    "outputId": "ded59b8c-07b1-472e-f6d7-131525ac3f22"
   },
   "outputs": [],
   "source": [
    "job_counts.plot(kind = 'bar')\n",
    "plt.xlabel('')"
   ]
  },
  {
   "cell_type": "code",
   "execution_count": null,
   "metadata": {
    "colab": {
     "base_uri": "https://localhost:8080/",
     "height": 429
    },
    "id": "6VFuZM-WTHfT",
    "outputId": "ec12cb6a-a834-43f6-9d24-925a8c1951e7"
   },
   "outputs": [],
   "source": [
    "job_title_counts = df['job_title_short'].value_counts()\n",
    "job_title_counts"
   ]
  },
  {
   "cell_type": "code",
   "execution_count": null,
   "metadata": {
    "colab": {
     "base_uri": "https://localhost:8080/",
     "height": 796
    },
    "id": "4iVUGELZR8yC",
    "outputId": "44ac9101-3143-41e7-c574-dee15d0187f0"
   },
   "outputs": [],
   "source": [
    "plt.bar(job_title_counts.index,job_title_counts.values)\n",
    "plt.xticks(rotation = 90, ha = 'right')\n"
   ]
  },
  {
   "cell_type": "code",
   "execution_count": null,
   "metadata": {
    "colab": {
     "base_uri": "https://localhost:8080/",
     "height": 482
    },
    "id": "oemxZUUrS6DQ",
    "outputId": "ace32f5d-5ee7-4476-8317-4e377949da57"
   },
   "outputs": [],
   "source": [
    "df.plot(x = 'job_posted_date', y = 'salary_year_avg', kind = 'scatter')"
   ]
  },
  {
   "cell_type": "code",
   "execution_count": null,
   "metadata": {
    "id": "KgcSyEOLVFoh"
   },
   "outputs": [],
   "source": [
    "job_salary = df.groupby(\"job_title_short\")[\"salary_year_avg\"].median().sort_values()"
   ]
  },
  {
   "cell_type": "code",
   "execution_count": null,
   "metadata": {
    "colab": {
     "base_uri": "https://localhost:8080/",
     "height": 472
    },
    "id": "76G072WbVzI_",
    "outputId": "69414fc3-e59d-463c-8b50-eb905827bdc1"
   },
   "outputs": [],
   "source": [
    "job_salary.plot(kind = 'barh')\n",
    "plt.xlabel('Salary ($USD)')\n",
    "plt.ylabel('')\n",
    "plt.title('Median Salary by Job Title')\n",
    "plt.show()"
   ]
  },
  {
   "cell_type": "code",
   "execution_count": null,
   "metadata": {
    "id": "7faNPRCCYsk0"
   },
   "outputs": [],
   "source": []
  }
 ],
 "metadata": {
  "colab": {
   "provenance": []
  },
  "kernelspec": {
   "display_name": "python_course",
   "language": "python",
   "name": "python3"
  },
  "language_info": {
   "codemirror_mode": {
    "name": "ipython",
    "version": 3
   },
   "file_extension": ".py",
   "mimetype": "text/x-python",
   "name": "python",
   "nbconvert_exporter": "python",
   "pygments_lexer": "ipython3",
   "version": "3.11.11"
  }
 },
 "nbformat": 4,
 "nbformat_minor": 0
}
